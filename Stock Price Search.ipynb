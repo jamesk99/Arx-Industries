{
 "cells": [
  {
   "cell_type": "code",
   "execution_count": null,
   "metadata": {},
   "outputs": [],
   "source": [
    "import yfinance as yf\n",
    "import pandas as pd\n",
    "\n",
    "# Function to fetch and display stock details\n",
    "def fetch_stock_data(stock_name):\n",
    "    try:\n",
    "        # Fetching the ticker data\n",
    "        ticker = yf.Ticker(stock_name)\n",
    "        \n",
    "        # Fetching historical market data for 1 day\n",
    "        data = ticker.history(period=\"1d\")\n",
    "        \n",
    "        # Checking if data exists\n",
    "        if data.empty:\n",
    "            print(\"No data found for the entered stock symbol. Please check the symbol and try again.\")\n",
    "            return\n",
    "        \n",
    "        # Extracting and displaying stock information\n",
    "        stock_full_name = ticker.info.get(\"longName\", \"N/A\")\n",
    "        current_price = round(ticker.info.get(\"currentPrice\", \"N/A\"), 2) if isinstance(ticker.info.get(\"currentPrice\"), (int, float)) else \"N/A\"\n",
    "        last_market_price = round(data['Close'].iloc[-1], 2)\n",
    "        pe_ratio = round(ticker.info.get(\"trailingPE\", \"N/A\"), 2) if isinstance(ticker.info.get(\"trailingPE\"), (int, float)) else \"N/A\"\n",
    "        price_book_ratio = round(ticker.info.get(\"priceToBook\", \"N/A\"), 2) if isinstance(ticker.info.get(\"priceToBook\"), (int, float)) else \"N/A\"\n",
    "        market_cap = round(ticker.info.get(\"marketCap\", \"N/A\"), 2) if isinstance(ticker.info.get(\"marketCap\"), (int, float)) else \"N/A\"\n",
    "        dividend_yield = round(ticker.info.get(\"dividendYield\", \"N/A\"), 2) if isinstance(ticker.info.get(\"dividendYield\"), (int, float)) else \"N/A\"\n",
    "        dividend_frequency = ticker.info.get(\"dividendFrequency\", \"N/A\")\n",
    "        eps = round(ticker.info.get(\"trailingEps\", \"N/A\"), 2) if isinstance(ticker.info.get(\"trailingEps\"), (int, float)) else \"N/A\"\n",
    "        profit_margin = round(ticker.info.get(\"profitMargins\", \"N/A\"), 2) if isinstance(ticker.info.get(\"profitMargins\"), (int, float)) else \"N/A\"\n",
    "\n",
    "        print(f\"\\nStock Information for: {stock_name.upper()} ({stock_full_name})\")\n",
    "        print(f\"Current Price: {current_price}\")\n",
    "        print(f\"Last Market Close Price: {last_market_price}\")\n",
    "        print(f\"P/E Ratio: {pe_ratio}\")\n",
    "        print(f\"Price/Book Ratio: {price_book_ratio}\")\n",
    "        print(f\"Market Cap: {market_cap}\")\n",
    "        print(f\"EPS: {eps}\")\n",
    "        print(f\"Profit Margin: {profit_margin}\")\n",
    "        \n",
    "        if dividend_yield != \"N/A\":\n",
    "            print(f\"Dividend Yield: {dividend_yield}\")\n",
    "            if dividend_frequency:\n",
    "                print(f\"Dividend Frequency: {dividend_frequency}\")\n",
    "        \n",
    "    except Exception as e:\n",
    "        print(f\"An error occurred: {e}\")\n",
    "\n",
    "# Prompting user for the stock name\n",
    "stock_name = input(\"Enter the stock symbol (e.g., AAPL, TSLA): \").strip()\n",
    "\n",
    "# Fetch and display the stock data\n",
    "fetch_stock_data(stock_name)"
   ]
  }
 ],
 "metadata": {
  "kernelspec": {
   "display_name": "Python 3",
   "language": "python",
   "name": "python3"
  },
  "language_info": {
   "codemirror_mode": {
    "name": "ipython",
    "version": 3
   },
   "file_extension": ".py",
   "mimetype": "text/x-python",
   "name": "python",
   "nbconvert_exporter": "python",
   "pygments_lexer": "ipython3",
   "version": "3.12.0"
  }
 },
 "nbformat": 4,
 "nbformat_minor": 2
}
