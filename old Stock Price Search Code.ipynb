{
 "cells": [
  {
   "cell_type": "code",
   "execution_count": null,
   "metadata": {},
   "outputs": [],
   "source": [
    "import yfinance as yf\n",
    "\n",
    "#Prompting user for the share name\n",
    "STK = input(\"Enter share name: \")\n",
    "\n",
    "#Fetching historical makret data\n",
    "data=yf.Ticker(STK).history(period=\"1d\")\n",
    "\n",
    "#Extracting the last market price\n",
    "last_market_price = data['Close'].iloc[-1]\n",
    "\n",
    "#Displaying the last market price\n",
    "print(\"Last market price:\", last_market_price)\n",
    "\n",
    "#Displaying the Stock\n",
    "print(\"Stock:\", STK)"
   ]
  }
 ],
 "metadata": {
  "kernelspec": {
   "display_name": ".venv",
   "language": "python",
   "name": "python3"
  },
  "language_info": {
   "codemirror_mode": {
    "name": "ipython",
    "version": 3
   },
   "file_extension": ".py",
   "mimetype": "text/x-python",
   "name": "python",
   "nbconvert_exporter": "python",
   "pygments_lexer": "ipython3",
   "version": "3.13.1"
  }
 },
 "nbformat": 4,
 "nbformat_minor": 2
}
