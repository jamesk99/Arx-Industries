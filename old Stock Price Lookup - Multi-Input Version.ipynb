{
 "cells": [
  {
   "cell_type": "code",
   "execution_count": 1,
   "id": "1ee0aaea",
   "metadata": {},
   "outputs": [
    {
     "name": "stdout",
     "output_type": "stream",
     "text": [
      "Stock: aapl, Last market price: 242.6999969482422\n",
      "Stock: tsla, Last market price: 394.94000244140625\n"
     ]
    }
   ],
   "source": [
    "import yfinance as yf\n",
    "\n",
    "# Prompting user for the share names, separated by commas\n",
    "stock_symbols = input(\"Enter share names separated by commas: \").split(',')\n",
    "\n",
    "# Iterating through each stock symbol\n",
    "for STK in stock_symbols:\n",
    "    STK = STK.strip()  # Removing any leading/trailing whitespace\n",
    "    # Fetching historical market data\n",
    "    data = yf.Ticker(STK).history(period=\"1d\")\n",
    "    # Extracting the last market price\n",
    "    if not data.empty:\n",
    "        last_market_price = data['Close'].iloc[-1]\n",
    "        # Displaying the last market price\n",
    "        print(f\"Stock: {STK}, Last market price: {last_market_price}\")\n",
    "    else:\n",
    "        print(f\"No data found for Stock: {STK}\")"
   ]
  }
 ],
 "metadata": {
  "kernelspec": {
   "display_name": ".venv",
   "language": "python",
   "name": "python3"
  },
  "language_info": {
   "codemirror_mode": {
    "name": "ipython",
    "version": 3
   },
   "file_extension": ".py",
   "mimetype": "text/x-python",
   "name": "python",
   "nbconvert_exporter": "python",
   "pygments_lexer": "ipython3",
   "version": "3.13.1"
  }
 },
 "nbformat": 4,
 "nbformat_minor": 5
}
