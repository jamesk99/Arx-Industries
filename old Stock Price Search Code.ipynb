{
 "cells": [
  {
   "cell_type": "code",
   "execution_count": 3,
   "metadata": {},
   "outputs": [
    {
     "name": "stdout",
     "output_type": "stream",
     "text": [
      "Last market price: 194.35000610351562\n",
      "Stock: AAPL\n"
     ]
    }
   ],
   "source": [
    "import yfinance as yf\n",
    "\n",
    "#Prompting user for the share name\n",
    "STK = input(\"Enter share name: \")\n",
    "\n",
    "#Fetching historical makret data\n",
    "data=yf.Ticker(STK).history(period=\"1d\")\n",
    "\n",
    "#Extracting the last market price\n",
    "last_market_price = data['Close'].iloc[-1]\n",
    "\n",
    "#Displaying the last market price\n",
    "print(\"Last market price:\", last_market_price)\n",
    "\n",
    "#Displaying the Stock\n",
    "print(\"Stock:\", STK)"
   ]
  }
 ],
 "metadata": {
  "kernelspec": {
   "display_name": "Python 3",
   "language": "python",
   "name": "python3"
  },
  "language_info": {
   "codemirror_mode": {
    "name": "ipython",
    "version": 3
   },
   "file_extension": ".py",
   "mimetype": "text/x-python",
   "name": "python",
   "nbconvert_exporter": "python",
   "pygments_lexer": "ipython3",
   "version": "3.12.0"
  }
 },
 "nbformat": 4,
 "nbformat_minor": 2
}
